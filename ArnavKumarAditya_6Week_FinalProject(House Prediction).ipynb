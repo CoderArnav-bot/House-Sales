{
 "cells": [
  {
   "cell_type": "code",
   "execution_count": 1,
   "metadata": {},
   "outputs": [],
   "source": [
    "import pandas as pd\n",
    "import seaborn as sns\n",
    "import numpy as np\n",
    "import matplotlib.pyplot as plt"
   ]
  },
  {
   "cell_type": "code",
   "execution_count": 2,
   "metadata": {},
   "outputs": [],
   "source": [
    "house = pd.read_csv(r'C:\\Users\\ARNAV\\Downloads\\house_price.csv')"
   ]
  },
  {
   "cell_type": "code",
   "execution_count": 3,
   "metadata": {},
   "outputs": [
    {
     "data": {
      "text/html": [
       "<div>\n",
       "<style scoped>\n",
       "    .dataframe tbody tr th:only-of-type {\n",
       "        vertical-align: middle;\n",
       "    }\n",
       "\n",
       "    .dataframe tbody tr th {\n",
       "        vertical-align: top;\n",
       "    }\n",
       "\n",
       "    .dataframe thead th {\n",
       "        text-align: right;\n",
       "    }\n",
       "</style>\n",
       "<table border=\"1\" class=\"dataframe\">\n",
       "  <thead>\n",
       "    <tr style=\"text-align: right;\">\n",
       "      <th></th>\n",
       "      <th>Location</th>\n",
       "      <th>BHK</th>\n",
       "      <th>Furnishing</th>\n",
       "      <th>Sq.ft</th>\n",
       "      <th>Old(years)</th>\n",
       "      <th>Floor</th>\n",
       "      <th>Price</th>\n",
       "    </tr>\n",
       "  </thead>\n",
       "  <tbody>\n",
       "    <tr>\n",
       "      <th>0</th>\n",
       "      <td>Bommanahalli</td>\n",
       "      <td>3</td>\n",
       "      <td>1</td>\n",
       "      <td>3000</td>\n",
       "      <td>1</td>\n",
       "      <td>3</td>\n",
       "      <td>28000</td>\n",
       "    </tr>\n",
       "    <tr>\n",
       "      <th>1</th>\n",
       "      <td>Bommanahalli</td>\n",
       "      <td>3</td>\n",
       "      <td>1</td>\n",
       "      <td>1650</td>\n",
       "      <td>10</td>\n",
       "      <td>0</td>\n",
       "      <td>18000</td>\n",
       "    </tr>\n",
       "    <tr>\n",
       "      <th>2</th>\n",
       "      <td>Whitefield</td>\n",
       "      <td>2</td>\n",
       "      <td>0</td>\n",
       "      <td>1000</td>\n",
       "      <td>5</td>\n",
       "      <td>3</td>\n",
       "      <td>16400</td>\n",
       "    </tr>\n",
       "    <tr>\n",
       "      <th>3</th>\n",
       "      <td>Whitefield</td>\n",
       "      <td>3</td>\n",
       "      <td>0</td>\n",
       "      <td>1600</td>\n",
       "      <td>1</td>\n",
       "      <td>9</td>\n",
       "      <td>27000</td>\n",
       "    </tr>\n",
       "    <tr>\n",
       "      <th>4</th>\n",
       "      <td>Whitefield</td>\n",
       "      <td>2</td>\n",
       "      <td>1</td>\n",
       "      <td>1200</td>\n",
       "      <td>5</td>\n",
       "      <td>1</td>\n",
       "      <td>20000</td>\n",
       "    </tr>\n",
       "    <tr>\n",
       "      <th>...</th>\n",
       "      <td>...</td>\n",
       "      <td>...</td>\n",
       "      <td>...</td>\n",
       "      <td>...</td>\n",
       "      <td>...</td>\n",
       "      <td>...</td>\n",
       "      <td>...</td>\n",
       "    </tr>\n",
       "    <tr>\n",
       "      <th>995</th>\n",
       "      <td>Bommanahalli</td>\n",
       "      <td>3</td>\n",
       "      <td>1</td>\n",
       "      <td>1460</td>\n",
       "      <td>1</td>\n",
       "      <td>2</td>\n",
       "      <td>25000</td>\n",
       "    </tr>\n",
       "    <tr>\n",
       "      <th>996</th>\n",
       "      <td>Whitefield</td>\n",
       "      <td>3</td>\n",
       "      <td>0</td>\n",
       "      <td>2100</td>\n",
       "      <td>1</td>\n",
       "      <td>7</td>\n",
       "      <td>28000</td>\n",
       "    </tr>\n",
       "    <tr>\n",
       "      <th>997</th>\n",
       "      <td>Bommanahalli</td>\n",
       "      <td>2</td>\n",
       "      <td>0</td>\n",
       "      <td>1033</td>\n",
       "      <td>5</td>\n",
       "      <td>0</td>\n",
       "      <td>16500</td>\n",
       "    </tr>\n",
       "    <tr>\n",
       "      <th>998</th>\n",
       "      <td>Bommanahalli</td>\n",
       "      <td>3</td>\n",
       "      <td>0</td>\n",
       "      <td>1500</td>\n",
       "      <td>10</td>\n",
       "      <td>1</td>\n",
       "      <td>22000</td>\n",
       "    </tr>\n",
       "    <tr>\n",
       "      <th>999</th>\n",
       "      <td>Whitefield</td>\n",
       "      <td>3</td>\n",
       "      <td>1</td>\n",
       "      <td>1768</td>\n",
       "      <td>5</td>\n",
       "      <td>11</td>\n",
       "      <td>30000</td>\n",
       "    </tr>\n",
       "  </tbody>\n",
       "</table>\n",
       "<p>1000 rows × 7 columns</p>\n",
       "</div>"
      ],
      "text/plain": [
       "         Location  BHK  Furnishing  Sq.ft  Old(years)  Floor  Price\n",
       "0    Bommanahalli    3           1   3000           1      3  28000\n",
       "1    Bommanahalli    3           1   1650          10      0  18000\n",
       "2      Whitefield    2           0   1000           5      3  16400\n",
       "3      Whitefield    3           0   1600           1      9  27000\n",
       "4      Whitefield    2           1   1200           5      1  20000\n",
       "..            ...  ...         ...    ...         ...    ...    ...\n",
       "995  Bommanahalli    3           1   1460           1      2  25000\n",
       "996    Whitefield    3           0   2100           1      7  28000\n",
       "997  Bommanahalli    2           0   1033           5      0  16500\n",
       "998  Bommanahalli    3           0   1500          10      1  22000\n",
       "999    Whitefield    3           1   1768           5     11  30000\n",
       "\n",
       "[1000 rows x 7 columns]"
      ]
     },
     "execution_count": 3,
     "metadata": {},
     "output_type": "execute_result"
    }
   ],
   "source": [
    "house"
   ]
  },
  {
   "cell_type": "code",
   "execution_count": 4,
   "metadata": {},
   "outputs": [
    {
     "name": "stdout",
     "output_type": "stream",
     "text": [
      "<class 'pandas.core.frame.DataFrame'>\n",
      "RangeIndex: 1000 entries, 0 to 999\n",
      "Data columns (total 7 columns):\n",
      " #   Column      Non-Null Count  Dtype \n",
      "---  ------      --------------  ----- \n",
      " 0   Location    1000 non-null   object\n",
      " 1   BHK         1000 non-null   int64 \n",
      " 2   Furnishing  1000 non-null   int64 \n",
      " 3   Sq.ft       1000 non-null   int64 \n",
      " 4   Old(years)  1000 non-null   int64 \n",
      " 5   Floor       1000 non-null   int64 \n",
      " 6   Price       1000 non-null   int64 \n",
      "dtypes: int64(6), object(1)\n",
      "memory usage: 54.8+ KB\n"
     ]
    }
   ],
   "source": [
    "house.info()"
   ]
  },
  {
   "cell_type": "code",
   "execution_count": 5,
   "metadata": {},
   "outputs": [
    {
     "data": {
      "text/html": [
       "<div>\n",
       "<style scoped>\n",
       "    .dataframe tbody tr th:only-of-type {\n",
       "        vertical-align: middle;\n",
       "    }\n",
       "\n",
       "    .dataframe tbody tr th {\n",
       "        vertical-align: top;\n",
       "    }\n",
       "\n",
       "    .dataframe thead th {\n",
       "        text-align: right;\n",
       "    }\n",
       "</style>\n",
       "<table border=\"1\" class=\"dataframe\">\n",
       "  <thead>\n",
       "    <tr style=\"text-align: right;\">\n",
       "      <th></th>\n",
       "      <th>BHK</th>\n",
       "      <th>Furnishing</th>\n",
       "      <th>Sq.ft</th>\n",
       "      <th>Old(years)</th>\n",
       "      <th>Floor</th>\n",
       "      <th>Price</th>\n",
       "    </tr>\n",
       "  </thead>\n",
       "  <tbody>\n",
       "    <tr>\n",
       "      <th>count</th>\n",
       "      <td>1000.000000</td>\n",
       "      <td>1000.000000</td>\n",
       "      <td>1000.000000</td>\n",
       "      <td>1000.000000</td>\n",
       "      <td>1000.000000</td>\n",
       "      <td>1000.000000</td>\n",
       "    </tr>\n",
       "    <tr>\n",
       "      <th>mean</th>\n",
       "      <td>2.436000</td>\n",
       "      <td>0.348000</td>\n",
       "      <td>1448.613000</td>\n",
       "      <td>4.029000</td>\n",
       "      <td>3.465000</td>\n",
       "      <td>22829.900000</td>\n",
       "    </tr>\n",
       "    <tr>\n",
       "      <th>std</th>\n",
       "      <td>0.496135</td>\n",
       "      <td>0.476574</td>\n",
       "      <td>491.272535</td>\n",
       "      <td>3.048845</td>\n",
       "      <td>3.245197</td>\n",
       "      <td>7706.410627</td>\n",
       "    </tr>\n",
       "    <tr>\n",
       "      <th>min</th>\n",
       "      <td>2.000000</td>\n",
       "      <td>0.000000</td>\n",
       "      <td>767.000000</td>\n",
       "      <td>1.000000</td>\n",
       "      <td>0.000000</td>\n",
       "      <td>11000.000000</td>\n",
       "    </tr>\n",
       "    <tr>\n",
       "      <th>25%</th>\n",
       "      <td>2.000000</td>\n",
       "      <td>0.000000</td>\n",
       "      <td>1089.000000</td>\n",
       "      <td>1.000000</td>\n",
       "      <td>1.000000</td>\n",
       "      <td>16500.000000</td>\n",
       "    </tr>\n",
       "    <tr>\n",
       "      <th>50%</th>\n",
       "      <td>2.000000</td>\n",
       "      <td>0.000000</td>\n",
       "      <td>1300.000000</td>\n",
       "      <td>5.000000</td>\n",
       "      <td>3.000000</td>\n",
       "      <td>21000.000000</td>\n",
       "    </tr>\n",
       "    <tr>\n",
       "      <th>75%</th>\n",
       "      <td>3.000000</td>\n",
       "      <td>1.000000</td>\n",
       "      <td>1650.000000</td>\n",
       "      <td>5.000000</td>\n",
       "      <td>3.000000</td>\n",
       "      <td>26000.000000</td>\n",
       "    </tr>\n",
       "    <tr>\n",
       "      <th>max</th>\n",
       "      <td>3.000000</td>\n",
       "      <td>1.000000</td>\n",
       "      <td>3155.000000</td>\n",
       "      <td>10.000000</td>\n",
       "      <td>13.000000</td>\n",
       "      <td>45000.000000</td>\n",
       "    </tr>\n",
       "  </tbody>\n",
       "</table>\n",
       "</div>"
      ],
      "text/plain": [
       "               BHK   Furnishing        Sq.ft   Old(years)        Floor  \\\n",
       "count  1000.000000  1000.000000  1000.000000  1000.000000  1000.000000   \n",
       "mean      2.436000     0.348000  1448.613000     4.029000     3.465000   \n",
       "std       0.496135     0.476574   491.272535     3.048845     3.245197   \n",
       "min       2.000000     0.000000   767.000000     1.000000     0.000000   \n",
       "25%       2.000000     0.000000  1089.000000     1.000000     1.000000   \n",
       "50%       2.000000     0.000000  1300.000000     5.000000     3.000000   \n",
       "75%       3.000000     1.000000  1650.000000     5.000000     3.000000   \n",
       "max       3.000000     1.000000  3155.000000    10.000000    13.000000   \n",
       "\n",
       "              Price  \n",
       "count   1000.000000  \n",
       "mean   22829.900000  \n",
       "std     7706.410627  \n",
       "min    11000.000000  \n",
       "25%    16500.000000  \n",
       "50%    21000.000000  \n",
       "75%    26000.000000  \n",
       "max    45000.000000  "
      ]
     },
     "execution_count": 5,
     "metadata": {},
     "output_type": "execute_result"
    }
   ],
   "source": [
    "house.describe()"
   ]
  },
  {
   "cell_type": "code",
   "execution_count": 6,
   "metadata": {},
   "outputs": [
    {
     "data": {
      "text/plain": [
       "[]"
      ]
     },
     "execution_count": 6,
     "metadata": {},
     "output_type": "execute_result"
    }
   ],
   "source": [
    "# detecting for outliers\n",
    "def Detect_Outliers(data):\n",
    "    outliers=[]\n",
    "    th=3\n",
    "    for i in data:\n",
    "        z=(i-np.mean(data))/np.std(data)\n",
    "        if np.abs(z)>th:\n",
    "            outliers.append(data)\n",
    "        return outliers\n",
    "Detect_Outliers(house['Price'])"
   ]
  },
  {
   "cell_type": "code",
   "execution_count": 7,
   "metadata": {},
   "outputs": [],
   "source": [
    "X = house.drop(columns = 'Price')"
   ]
  },
  {
   "cell_type": "code",
   "execution_count": 8,
   "metadata": {},
   "outputs": [],
   "source": [
    "Y = house[['Price']]"
   ]
  },
  {
   "cell_type": "code",
   "execution_count": 9,
   "metadata": {},
   "outputs": [
    {
     "data": {
      "text/html": [
       "<div>\n",
       "<style scoped>\n",
       "    .dataframe tbody tr th:only-of-type {\n",
       "        vertical-align: middle;\n",
       "    }\n",
       "\n",
       "    .dataframe tbody tr th {\n",
       "        vertical-align: top;\n",
       "    }\n",
       "\n",
       "    .dataframe thead th {\n",
       "        text-align: right;\n",
       "    }\n",
       "</style>\n",
       "<table border=\"1\" class=\"dataframe\">\n",
       "  <thead>\n",
       "    <tr style=\"text-align: right;\">\n",
       "      <th></th>\n",
       "      <th>Location</th>\n",
       "      <th>BHK</th>\n",
       "      <th>Furnishing</th>\n",
       "      <th>Sq.ft</th>\n",
       "      <th>Old(years)</th>\n",
       "      <th>Floor</th>\n",
       "    </tr>\n",
       "  </thead>\n",
       "  <tbody>\n",
       "    <tr>\n",
       "      <th>0</th>\n",
       "      <td>Bommanahalli</td>\n",
       "      <td>3</td>\n",
       "      <td>1</td>\n",
       "      <td>3000</td>\n",
       "      <td>1</td>\n",
       "      <td>3</td>\n",
       "    </tr>\n",
       "    <tr>\n",
       "      <th>1</th>\n",
       "      <td>Bommanahalli</td>\n",
       "      <td>3</td>\n",
       "      <td>1</td>\n",
       "      <td>1650</td>\n",
       "      <td>10</td>\n",
       "      <td>0</td>\n",
       "    </tr>\n",
       "    <tr>\n",
       "      <th>2</th>\n",
       "      <td>Whitefield</td>\n",
       "      <td>2</td>\n",
       "      <td>0</td>\n",
       "      <td>1000</td>\n",
       "      <td>5</td>\n",
       "      <td>3</td>\n",
       "    </tr>\n",
       "    <tr>\n",
       "      <th>3</th>\n",
       "      <td>Whitefield</td>\n",
       "      <td>3</td>\n",
       "      <td>0</td>\n",
       "      <td>1600</td>\n",
       "      <td>1</td>\n",
       "      <td>9</td>\n",
       "    </tr>\n",
       "    <tr>\n",
       "      <th>4</th>\n",
       "      <td>Whitefield</td>\n",
       "      <td>2</td>\n",
       "      <td>1</td>\n",
       "      <td>1200</td>\n",
       "      <td>5</td>\n",
       "      <td>1</td>\n",
       "    </tr>\n",
       "    <tr>\n",
       "      <th>...</th>\n",
       "      <td>...</td>\n",
       "      <td>...</td>\n",
       "      <td>...</td>\n",
       "      <td>...</td>\n",
       "      <td>...</td>\n",
       "      <td>...</td>\n",
       "    </tr>\n",
       "    <tr>\n",
       "      <th>995</th>\n",
       "      <td>Bommanahalli</td>\n",
       "      <td>3</td>\n",
       "      <td>1</td>\n",
       "      <td>1460</td>\n",
       "      <td>1</td>\n",
       "      <td>2</td>\n",
       "    </tr>\n",
       "    <tr>\n",
       "      <th>996</th>\n",
       "      <td>Whitefield</td>\n",
       "      <td>3</td>\n",
       "      <td>0</td>\n",
       "      <td>2100</td>\n",
       "      <td>1</td>\n",
       "      <td>7</td>\n",
       "    </tr>\n",
       "    <tr>\n",
       "      <th>997</th>\n",
       "      <td>Bommanahalli</td>\n",
       "      <td>2</td>\n",
       "      <td>0</td>\n",
       "      <td>1033</td>\n",
       "      <td>5</td>\n",
       "      <td>0</td>\n",
       "    </tr>\n",
       "    <tr>\n",
       "      <th>998</th>\n",
       "      <td>Bommanahalli</td>\n",
       "      <td>3</td>\n",
       "      <td>0</td>\n",
       "      <td>1500</td>\n",
       "      <td>10</td>\n",
       "      <td>1</td>\n",
       "    </tr>\n",
       "    <tr>\n",
       "      <th>999</th>\n",
       "      <td>Whitefield</td>\n",
       "      <td>3</td>\n",
       "      <td>1</td>\n",
       "      <td>1768</td>\n",
       "      <td>5</td>\n",
       "      <td>11</td>\n",
       "    </tr>\n",
       "  </tbody>\n",
       "</table>\n",
       "<p>1000 rows × 6 columns</p>\n",
       "</div>"
      ],
      "text/plain": [
       "         Location  BHK  Furnishing  Sq.ft  Old(years)  Floor\n",
       "0    Bommanahalli    3           1   3000           1      3\n",
       "1    Bommanahalli    3           1   1650          10      0\n",
       "2      Whitefield    2           0   1000           5      3\n",
       "3      Whitefield    3           0   1600           1      9\n",
       "4      Whitefield    2           1   1200           5      1\n",
       "..            ...  ...         ...    ...         ...    ...\n",
       "995  Bommanahalli    3           1   1460           1      2\n",
       "996    Whitefield    3           0   2100           1      7\n",
       "997  Bommanahalli    2           0   1033           5      0\n",
       "998  Bommanahalli    3           0   1500          10      1\n",
       "999    Whitefield    3           1   1768           5     11\n",
       "\n",
       "[1000 rows x 6 columns]"
      ]
     },
     "execution_count": 9,
     "metadata": {},
     "output_type": "execute_result"
    }
   ],
   "source": [
    "X"
   ]
  },
  {
   "cell_type": "code",
   "execution_count": 10,
   "metadata": {},
   "outputs": [
    {
     "data": {
      "text/html": [
       "<div>\n",
       "<style scoped>\n",
       "    .dataframe tbody tr th:only-of-type {\n",
       "        vertical-align: middle;\n",
       "    }\n",
       "\n",
       "    .dataframe tbody tr th {\n",
       "        vertical-align: top;\n",
       "    }\n",
       "\n",
       "    .dataframe thead th {\n",
       "        text-align: right;\n",
       "    }\n",
       "</style>\n",
       "<table border=\"1\" class=\"dataframe\">\n",
       "  <thead>\n",
       "    <tr style=\"text-align: right;\">\n",
       "      <th></th>\n",
       "      <th>Price</th>\n",
       "    </tr>\n",
       "  </thead>\n",
       "  <tbody>\n",
       "    <tr>\n",
       "      <th>0</th>\n",
       "      <td>28000</td>\n",
       "    </tr>\n",
       "    <tr>\n",
       "      <th>1</th>\n",
       "      <td>18000</td>\n",
       "    </tr>\n",
       "    <tr>\n",
       "      <th>2</th>\n",
       "      <td>16400</td>\n",
       "    </tr>\n",
       "    <tr>\n",
       "      <th>3</th>\n",
       "      <td>27000</td>\n",
       "    </tr>\n",
       "    <tr>\n",
       "      <th>4</th>\n",
       "      <td>20000</td>\n",
       "    </tr>\n",
       "    <tr>\n",
       "      <th>...</th>\n",
       "      <td>...</td>\n",
       "    </tr>\n",
       "    <tr>\n",
       "      <th>995</th>\n",
       "      <td>25000</td>\n",
       "    </tr>\n",
       "    <tr>\n",
       "      <th>996</th>\n",
       "      <td>28000</td>\n",
       "    </tr>\n",
       "    <tr>\n",
       "      <th>997</th>\n",
       "      <td>16500</td>\n",
       "    </tr>\n",
       "    <tr>\n",
       "      <th>998</th>\n",
       "      <td>22000</td>\n",
       "    </tr>\n",
       "    <tr>\n",
       "      <th>999</th>\n",
       "      <td>30000</td>\n",
       "    </tr>\n",
       "  </tbody>\n",
       "</table>\n",
       "<p>1000 rows × 1 columns</p>\n",
       "</div>"
      ],
      "text/plain": [
       "     Price\n",
       "0    28000\n",
       "1    18000\n",
       "2    16400\n",
       "3    27000\n",
       "4    20000\n",
       "..     ...\n",
       "995  25000\n",
       "996  28000\n",
       "997  16500\n",
       "998  22000\n",
       "999  30000\n",
       "\n",
       "[1000 rows x 1 columns]"
      ]
     },
     "execution_count": 10,
     "metadata": {},
     "output_type": "execute_result"
    }
   ],
   "source": [
    "Y"
   ]
  },
  {
   "cell_type": "code",
   "execution_count": 11,
   "metadata": {},
   "outputs": [
    {
     "data": {
      "text/plain": [
       "<seaborn.axisgrid.PairGrid at 0x231550b3430>"
      ]
     },
     "execution_count": 11,
     "metadata": {},
     "output_type": "execute_result"
    },
    {
     "data": {
      "text/plain": [
       "<Figure size 1080x1080 with 0 Axes>"
      ]
     },
     "metadata": {},
     "output_type": "display_data"
    },
    {
     "data": {
      "image/png": "[encoded data removed]",
      "text/plain": [
       "<Figure size 1080x1080 with 42 Axes>"
      ]
     },
     "metadata": {
      "needs_background": "light"
     },
     "output_type": "display_data"
    }
   ],
   "source": [
    "plt.figure(figsize=(15,15))\n",
    "sns.pairplot(data=house)"
   ]
  },
  {
   "cell_type": "code",
   "execution_count": 12,
   "metadata": {},
   "outputs": [],
   "source": [
    "from sklearn.model_selection import train_test_split\n",
    "from sklearn.linear_model import LinearRegression,Ridge\n",
    "from sklearn.preprocessing import OneHotEncoder, MinMaxScaler\n",
    "from sklearn.compose import make_column_transformer\n",
    "from sklearn.pipeline import make_pipeline\n"
   ]
  },
  {
   "cell_type": "code",
   "execution_count": 13,
   "metadata": {},
   "outputs": [],
   "source": [
    "column_trans = make_column_transformer((OneHotEncoder(sparse=False), ['Location']),remainder='passthrough')"
   ]
  },
  {
   "cell_type": "code",
   "execution_count": 14,
   "metadata": {},
   "outputs": [],
   "source": [
    "norm = MinMaxScaler()\n",
    "lr = LinearRegression()\n",
    "lasso = Ridge()"
   ]
  },
  {
   "cell_type": "code",
   "execution_count": 15,
   "metadata": {},
   "outputs": [],
   "source": [
    "from sklearn.metrics import r2_score"
   ]
  },
  {
   "cell_type": "code",
   "execution_count": 23,
   "metadata": {},
   "outputs": [
    {
     "data": {
      "text/plain": [
       "0.8725382071190831"
      ]
     },
     "execution_count": 23,
     "metadata": {},
     "output_type": "execute_result"
    }
   ],
   "source": [
    "X_train, X_test, Y_train, Y_test = train_test_split(X,Y,test_size=0.2,random_state = 1312)\n",
    "ridge = Ridge()\n",
    "norm = MinMaxScaler()\n",
    "pipe = make_pipeline(column_trans,norm,ridge)\n",
    "pipe.fit(X_train,Y_train)\n",
    "Y_pred = pipe.predict(X_test)\n",
    "r2_score(Y_test,Y_pred)"
   ]
  },
  {
   "cell_type": "code",
   "execution_count": 27,
   "metadata": {},
   "outputs": [
    {
     "data": {
      "text/plain": [
       "array([[33896.01659335]])"
      ]
     },
     "execution_count": 27,
     "metadata": {},
     "output_type": "execute_result"
    }
   ],
   "source": [
    " pipe.predict(pd.DataFrame([['Whitefield',3,1,1768,5,11]],columns=['Location', 'BHK', 'Furnishing', 'Sq.ft', 'Old(years)', 'Floor']))"
   ]
  },
  {
   "cell_type": "code",
   "execution_count": null,
   "metadata": {},
   "outputs": [],
   "source": [
    "\n"
   ]
  },
  {
   "cell_type": "code",
   "execution_count": null,
   "metadata": {},
   "outputs": [],
   "source": []
  }
 ],
 "metadata": {
  "kernelspec": {
   "display_name": "Python 3",
   "language": "python",
   "name": "python3"
  },
  "language_info": {
   "codemirror_mode": {
    "name": "ipython",
    "version": 3
   },
   "file_extension": ".py",
   "mimetype": "text/x-python",
   "name": "python",
   "nbconvert_exporter": "python",
   "pygments_lexer": "ipython3",
   "version": "3.8.8"
  }
 },
 "nbformat": 4,
 "nbformat_minor": 4
}
